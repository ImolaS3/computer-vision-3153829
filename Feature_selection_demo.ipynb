{
  "cells": [
    {
      "cell_type": "markdown",
      "metadata": {
        "id": "view-in-github",
        "colab_type": "text"
      },
      "source": [
        "<a href=\"https://colab.research.google.com/github/ImolaS3/computer-vision-3153829/blob/main/Feature_selection_demo.ipynb\" target=\"_parent\"><img src=\"https://colab.research.google.com/assets/colab-badge.svg\" alt=\"Open In Colab\"/></a>"
      ]
    },
    {
      "cell_type": "code",
      "execution_count": 11,
      "id": "2640bb87-f788-49b3-974c-6d2d7355454d",
      "metadata": {
        "colab": {
          "base_uri": "https://localhost:8080/",
          "height": 400
        },
        "id": "2640bb87-f788-49b3-974c-6d2d7355454d",
        "outputId": "5f7a0979-6899-4117-8335-2d646ef838ee"
      },
      "outputs": [
        {
          "output_type": "error",
          "ename": "FileNotFoundError",
          "evalue": "[Errno 2] No such file or directory: '/Users/antonysutton/Library/CloudStorage/OneDrive-LoughboroughUniversity/Jupyter/WSD912 demos/Kobe Bryant.csv'",
          "traceback": [
            "\u001b[0;31m---------------------------------------------------------------------------\u001b[0m",
            "\u001b[0;31mFileNotFoundError\u001b[0m                         Traceback (most recent call last)",
            "\u001b[0;32m<ipython-input-11-ebc2c9821042>\u001b[0m in \u001b[0;36m<cell line: 14>\u001b[0;34m()\u001b[0m\n\u001b[1;32m     12\u001b[0m \u001b[0;31m# dataset is Kobe Bryant NBA player lifetime scores with 25 columns and 30697 entries\u001b[0m\u001b[0;34m\u001b[0m\u001b[0;34m\u001b[0m\u001b[0m\n\u001b[1;32m     13\u001b[0m \u001b[0;34m\u001b[0m\u001b[0m\n\u001b[0;32m---> 14\u001b[0;31m \u001b[0mdata\u001b[0m \u001b[0;34m=\u001b[0m \u001b[0mpd\u001b[0m\u001b[0;34m.\u001b[0m\u001b[0mread_csv\u001b[0m\u001b[0;34m(\u001b[0m\u001b[0;34m'/Users/antonysutton/Library/CloudStorage/OneDrive-LoughboroughUniversity/Jupyter/WSD912 demos/Kobe Bryant.csv'\u001b[0m\u001b[0;34m)\u001b[0m\u001b[0;34m\u001b[0m\u001b[0;34m\u001b[0m\u001b[0m\n\u001b[0m\u001b[1;32m     15\u001b[0m \u001b[0moriginalFeatures\u001b[0m \u001b[0;34m=\u001b[0m \u001b[0mdata\u001b[0m\u001b[0;34m.\u001b[0m\u001b[0mcolumns\u001b[0m\u001b[0;34m\u001b[0m\u001b[0;34m\u001b[0m\u001b[0m\n\u001b[1;32m     16\u001b[0m \u001b[0;34m\u001b[0m\u001b[0m\n",
            "\u001b[0;32m/usr/local/lib/python3.10/dist-packages/pandas/util/_decorators.py\u001b[0m in \u001b[0;36mwrapper\u001b[0;34m(*args, **kwargs)\u001b[0m\n\u001b[1;32m    209\u001b[0m                 \u001b[0;32melse\u001b[0m\u001b[0;34m:\u001b[0m\u001b[0;34m\u001b[0m\u001b[0;34m\u001b[0m\u001b[0m\n\u001b[1;32m    210\u001b[0m                     \u001b[0mkwargs\u001b[0m\u001b[0;34m[\u001b[0m\u001b[0mnew_arg_name\u001b[0m\u001b[0;34m]\u001b[0m \u001b[0;34m=\u001b[0m \u001b[0mnew_arg_value\u001b[0m\u001b[0;34m\u001b[0m\u001b[0;34m\u001b[0m\u001b[0m\n\u001b[0;32m--> 211\u001b[0;31m             \u001b[0;32mreturn\u001b[0m \u001b[0mfunc\u001b[0m\u001b[0;34m(\u001b[0m\u001b[0;34m*\u001b[0m\u001b[0margs\u001b[0m\u001b[0;34m,\u001b[0m \u001b[0;34m**\u001b[0m\u001b[0mkwargs\u001b[0m\u001b[0;34m)\u001b[0m\u001b[0;34m\u001b[0m\u001b[0;34m\u001b[0m\u001b[0m\n\u001b[0m\u001b[1;32m    212\u001b[0m \u001b[0;34m\u001b[0m\u001b[0m\n\u001b[1;32m    213\u001b[0m         \u001b[0;32mreturn\u001b[0m \u001b[0mcast\u001b[0m\u001b[0;34m(\u001b[0m\u001b[0mF\u001b[0m\u001b[0;34m,\u001b[0m \u001b[0mwrapper\u001b[0m\u001b[0;34m)\u001b[0m\u001b[0;34m\u001b[0m\u001b[0;34m\u001b[0m\u001b[0m\n",
            "\u001b[0;32m/usr/local/lib/python3.10/dist-packages/pandas/util/_decorators.py\u001b[0m in \u001b[0;36mwrapper\u001b[0;34m(*args, **kwargs)\u001b[0m\n\u001b[1;32m    329\u001b[0m                     \u001b[0mstacklevel\u001b[0m\u001b[0;34m=\u001b[0m\u001b[0mfind_stack_level\u001b[0m\u001b[0;34m(\u001b[0m\u001b[0;34m)\u001b[0m\u001b[0;34m,\u001b[0m\u001b[0;34m\u001b[0m\u001b[0;34m\u001b[0m\u001b[0m\n\u001b[1;32m    330\u001b[0m                 )\n\u001b[0;32m--> 331\u001b[0;31m             \u001b[0;32mreturn\u001b[0m \u001b[0mfunc\u001b[0m\u001b[0;34m(\u001b[0m\u001b[0;34m*\u001b[0m\u001b[0margs\u001b[0m\u001b[0;34m,\u001b[0m \u001b[0;34m**\u001b[0m\u001b[0mkwargs\u001b[0m\u001b[0;34m)\u001b[0m\u001b[0;34m\u001b[0m\u001b[0;34m\u001b[0m\u001b[0m\n\u001b[0m\u001b[1;32m    332\u001b[0m \u001b[0;34m\u001b[0m\u001b[0m\n\u001b[1;32m    333\u001b[0m         \u001b[0;31m# error: \"Callable[[VarArg(Any), KwArg(Any)], Any]\" has no\u001b[0m\u001b[0;34m\u001b[0m\u001b[0;34m\u001b[0m\u001b[0m\n",
            "\u001b[0;32m/usr/local/lib/python3.10/dist-packages/pandas/io/parsers/readers.py\u001b[0m in \u001b[0;36mread_csv\u001b[0;34m(filepath_or_buffer, sep, delimiter, header, names, index_col, usecols, squeeze, prefix, mangle_dupe_cols, dtype, engine, converters, true_values, false_values, skipinitialspace, skiprows, skipfooter, nrows, na_values, keep_default_na, na_filter, verbose, skip_blank_lines, parse_dates, infer_datetime_format, keep_date_col, date_parser, dayfirst, cache_dates, iterator, chunksize, compression, thousands, decimal, lineterminator, quotechar, quoting, doublequote, escapechar, comment, encoding, encoding_errors, dialect, error_bad_lines, warn_bad_lines, on_bad_lines, delim_whitespace, low_memory, memory_map, float_precision, storage_options)\u001b[0m\n\u001b[1;32m    948\u001b[0m     \u001b[0mkwds\u001b[0m\u001b[0;34m.\u001b[0m\u001b[0mupdate\u001b[0m\u001b[0;34m(\u001b[0m\u001b[0mkwds_defaults\u001b[0m\u001b[0;34m)\u001b[0m\u001b[0;34m\u001b[0m\u001b[0;34m\u001b[0m\u001b[0m\n\u001b[1;32m    949\u001b[0m \u001b[0;34m\u001b[0m\u001b[0m\n\u001b[0;32m--> 950\u001b[0;31m     \u001b[0;32mreturn\u001b[0m \u001b[0m_read\u001b[0m\u001b[0;34m(\u001b[0m\u001b[0mfilepath_or_buffer\u001b[0m\u001b[0;34m,\u001b[0m \u001b[0mkwds\u001b[0m\u001b[0;34m)\u001b[0m\u001b[0;34m\u001b[0m\u001b[0;34m\u001b[0m\u001b[0m\n\u001b[0m\u001b[1;32m    951\u001b[0m \u001b[0;34m\u001b[0m\u001b[0m\n\u001b[1;32m    952\u001b[0m \u001b[0;34m\u001b[0m\u001b[0m\n",
            "\u001b[0;32m/usr/local/lib/python3.10/dist-packages/pandas/io/parsers/readers.py\u001b[0m in \u001b[0;36m_read\u001b[0;34m(filepath_or_buffer, kwds)\u001b[0m\n\u001b[1;32m    603\u001b[0m \u001b[0;34m\u001b[0m\u001b[0m\n\u001b[1;32m    604\u001b[0m     \u001b[0;31m# Create the parser.\u001b[0m\u001b[0;34m\u001b[0m\u001b[0;34m\u001b[0m\u001b[0m\n\u001b[0;32m--> 605\u001b[0;31m     \u001b[0mparser\u001b[0m \u001b[0;34m=\u001b[0m \u001b[0mTextFileReader\u001b[0m\u001b[0;34m(\u001b[0m\u001b[0mfilepath_or_buffer\u001b[0m\u001b[0;34m,\u001b[0m \u001b[0;34m**\u001b[0m\u001b[0mkwds\u001b[0m\u001b[0;34m)\u001b[0m\u001b[0;34m\u001b[0m\u001b[0;34m\u001b[0m\u001b[0m\n\u001b[0m\u001b[1;32m    606\u001b[0m \u001b[0;34m\u001b[0m\u001b[0m\n\u001b[1;32m    607\u001b[0m     \u001b[0;32mif\u001b[0m \u001b[0mchunksize\u001b[0m \u001b[0;32mor\u001b[0m \u001b[0miterator\u001b[0m\u001b[0;34m:\u001b[0m\u001b[0;34m\u001b[0m\u001b[0;34m\u001b[0m\u001b[0m\n",
            "\u001b[0;32m/usr/local/lib/python3.10/dist-packages/pandas/io/parsers/readers.py\u001b[0m in \u001b[0;36m__init__\u001b[0;34m(self, f, engine, **kwds)\u001b[0m\n\u001b[1;32m   1440\u001b[0m \u001b[0;34m\u001b[0m\u001b[0m\n\u001b[1;32m   1441\u001b[0m         \u001b[0mself\u001b[0m\u001b[0;34m.\u001b[0m\u001b[0mhandles\u001b[0m\u001b[0;34m:\u001b[0m \u001b[0mIOHandles\u001b[0m \u001b[0;34m|\u001b[0m \u001b[0;32mNone\u001b[0m \u001b[0;34m=\u001b[0m \u001b[0;32mNone\u001b[0m\u001b[0;34m\u001b[0m\u001b[0;34m\u001b[0m\u001b[0m\n\u001b[0;32m-> 1442\u001b[0;31m         \u001b[0mself\u001b[0m\u001b[0;34m.\u001b[0m\u001b[0m_engine\u001b[0m \u001b[0;34m=\u001b[0m \u001b[0mself\u001b[0m\u001b[0;34m.\u001b[0m\u001b[0m_make_engine\u001b[0m\u001b[0;34m(\u001b[0m\u001b[0mf\u001b[0m\u001b[0;34m,\u001b[0m \u001b[0mself\u001b[0m\u001b[0;34m.\u001b[0m\u001b[0mengine\u001b[0m\u001b[0;34m)\u001b[0m\u001b[0;34m\u001b[0m\u001b[0;34m\u001b[0m\u001b[0m\n\u001b[0m\u001b[1;32m   1443\u001b[0m \u001b[0;34m\u001b[0m\u001b[0m\n\u001b[1;32m   1444\u001b[0m     \u001b[0;32mdef\u001b[0m \u001b[0mclose\u001b[0m\u001b[0;34m(\u001b[0m\u001b[0mself\u001b[0m\u001b[0;34m)\u001b[0m \u001b[0;34m->\u001b[0m \u001b[0;32mNone\u001b[0m\u001b[0;34m:\u001b[0m\u001b[0;34m\u001b[0m\u001b[0;34m\u001b[0m\u001b[0m\n",
            "\u001b[0;32m/usr/local/lib/python3.10/dist-packages/pandas/io/parsers/readers.py\u001b[0m in \u001b[0;36m_make_engine\u001b[0;34m(self, f, engine)\u001b[0m\n\u001b[1;32m   1733\u001b[0m                 \u001b[0;32mif\u001b[0m \u001b[0;34m\"b\"\u001b[0m \u001b[0;32mnot\u001b[0m \u001b[0;32min\u001b[0m \u001b[0mmode\u001b[0m\u001b[0;34m:\u001b[0m\u001b[0;34m\u001b[0m\u001b[0;34m\u001b[0m\u001b[0m\n\u001b[1;32m   1734\u001b[0m                     \u001b[0mmode\u001b[0m \u001b[0;34m+=\u001b[0m \u001b[0;34m\"b\"\u001b[0m\u001b[0;34m\u001b[0m\u001b[0;34m\u001b[0m\u001b[0m\n\u001b[0;32m-> 1735\u001b[0;31m             self.handles = get_handle(\n\u001b[0m\u001b[1;32m   1736\u001b[0m                 \u001b[0mf\u001b[0m\u001b[0;34m,\u001b[0m\u001b[0;34m\u001b[0m\u001b[0;34m\u001b[0m\u001b[0m\n\u001b[1;32m   1737\u001b[0m                 \u001b[0mmode\u001b[0m\u001b[0;34m,\u001b[0m\u001b[0;34m\u001b[0m\u001b[0;34m\u001b[0m\u001b[0m\n",
            "\u001b[0;32m/usr/local/lib/python3.10/dist-packages/pandas/io/common.py\u001b[0m in \u001b[0;36mget_handle\u001b[0;34m(path_or_buf, mode, encoding, compression, memory_map, is_text, errors, storage_options)\u001b[0m\n\u001b[1;32m    854\u001b[0m         \u001b[0;32mif\u001b[0m \u001b[0mioargs\u001b[0m\u001b[0;34m.\u001b[0m\u001b[0mencoding\u001b[0m \u001b[0;32mand\u001b[0m \u001b[0;34m\"b\"\u001b[0m \u001b[0;32mnot\u001b[0m \u001b[0;32min\u001b[0m \u001b[0mioargs\u001b[0m\u001b[0;34m.\u001b[0m\u001b[0mmode\u001b[0m\u001b[0;34m:\u001b[0m\u001b[0;34m\u001b[0m\u001b[0;34m\u001b[0m\u001b[0m\n\u001b[1;32m    855\u001b[0m             \u001b[0;31m# Encoding\u001b[0m\u001b[0;34m\u001b[0m\u001b[0;34m\u001b[0m\u001b[0m\n\u001b[0;32m--> 856\u001b[0;31m             handle = open(\n\u001b[0m\u001b[1;32m    857\u001b[0m                 \u001b[0mhandle\u001b[0m\u001b[0;34m,\u001b[0m\u001b[0;34m\u001b[0m\u001b[0;34m\u001b[0m\u001b[0m\n\u001b[1;32m    858\u001b[0m                 \u001b[0mioargs\u001b[0m\u001b[0;34m.\u001b[0m\u001b[0mmode\u001b[0m\u001b[0;34m,\u001b[0m\u001b[0;34m\u001b[0m\u001b[0;34m\u001b[0m\u001b[0m\n",
            "\u001b[0;31mFileNotFoundError\u001b[0m: [Errno 2] No such file or directory: '/Users/antonysutton/Library/CloudStorage/OneDrive-LoughboroughUniversity/Jupyter/WSD912 demos/Kobe Bryant.csv'"
          ]
        }
      ],
      "source": [
        "#  evernote:///view/11809145/s109/e4cc2fde-8d0e-4052-8ab3-dddb3dbf965d/ea5dc5d4-4d1e-094a-1c17-7c294a7d7ecd\n",
        "\n",
        "# This is example code for use in demonstration in WSD912 when looking at feature selection and shows the fitering method which is always the first step\n",
        "\n",
        "import pandas as pd\n",
        "pd.options.mode.chained_assignment = None  # default='warn'\n",
        "import warnings\n",
        "warnings.simplefilter(action='ignore', category=FutureWarning)\n",
        "import numpy as np\n",
        "import matplotlib.pyplot as plt\n",
        "\n",
        "# dataset is Kobe Bryant NBA player lifetime scores with 25 columns and 30697 entries\n",
        "\n",
        "data = pd.read_csv('/Users/antonysutton/Library/CloudStorage/OneDrive-LoughboroughUniversity/Jupyter/WSD912 demos/Kobe Bryant.csv')\n",
        "originalFeatures = data.columns\n",
        "\n",
        "print('originalFeatures count', len(originalFeatures))\n",
        "print('originalFeatures', originalFeatures)\n",
        "pd.set_option('display.max_columns', 25)\n",
        "\n",
        "data.head()"
      ]
    },
    {
      "cell_type": "code",
      "execution_count": 12,
      "id": "d81925d2-f0a4-451a-98e3-6cf6db665983",
      "metadata": {
        "colab": {
          "base_uri": "https://localhost:8080/",
          "height": 162
        },
        "id": "d81925d2-f0a4-451a-98e3-6cf6db665983",
        "outputId": "22587f5c-0930-4dea-89a9-f27597c578b4"
      },
      "outputs": [
        {
          "output_type": "error",
          "ename": "NameError",
          "evalue": "name 'data' is not defined",
          "traceback": [
            "\u001b[0;31m---------------------------------------------------------------------------\u001b[0m",
            "\u001b[0;31mNameError\u001b[0m                                 Traceback (most recent call last)",
            "\u001b[0;32m<ipython-input-12-14f85fc59652>\u001b[0m in \u001b[0;36m<cell line: 1>\u001b[0;34m()\u001b[0m\n\u001b[0;32m----> 1\u001b[0;31m \u001b[0mprint\u001b[0m\u001b[0;34m(\u001b[0m\u001b[0mdata\u001b[0m\u001b[0;34m[\u001b[0m\u001b[0;34m[\u001b[0m\u001b[0;34m'seconds_remaining'\u001b[0m\u001b[0;34m]\u001b[0m\u001b[0;34m]\u001b[0m\u001b[0;34m)\u001b[0m\u001b[0;34m\u001b[0m\u001b[0;34m\u001b[0m\u001b[0m\n\u001b[0m\u001b[1;32m      2\u001b[0m \u001b[0;34m\u001b[0m\u001b[0m\n",
            "\u001b[0;31mNameError\u001b[0m: name 'data' is not defined"
          ]
        }
      ],
      "source": [
        "print(data[['seconds_remaining']])\n",
        ""
      ]
    },
    {
      "cell_type": "code",
      "execution_count": null,
      "id": "9daae1fc-fd71-4743-8b48-3d5b0fa724cf",
      "metadata": {
        "id": "9daae1fc-fd71-4743-8b48-3d5b0fa724cf"
      },
      "outputs": [],
      "source": [
        "# first positional colomuns for latitude and longitude  and X and Y locations\n",
        "\n",
        "alpha = 0.02\n",
        "plt.figure(figsize=(10,10))\n",
        "\n",
        "#plot X and Y coordinates on the court\n",
        "plt.subplot(121)\n",
        "plt.scatter(data.loc_x, data.loc_y, color='blue', alpha=alpha)\n",
        "plt.title('loc_x and loc_y')\n",
        "\n",
        "# plotlatitude and longitude\n",
        "plt.subplot(122)\n",
        "plt.scatter(data.lon, data.lat, color='green', alpha=alpha)\n",
        "plt.title('lat and lon')\n"
      ]
    },
    {
      "cell_type": "code",
      "execution_count": null,
      "id": "a06613b1-4079-4a0e-8710-ef72fcdb034f",
      "metadata": {
        "id": "a06613b1-4079-4a0e-8710-ef72fcdb034f"
      },
      "outputs": [],
      "source": [
        "# the plot shows the shooting area on the field, in particularr the 'D'\n",
        "\n",
        "# change to polar coordiantes for easier analysis\n",
        "data['dist']=np.sqrt(data['loc_x']**2 + data['loc_y']**2)\n",
        "\n",
        "loc_x_zero = data['loc_x'] ==0\n",
        "data['angle'] = np.array([0]*len(data))\n",
        "data['angle'] [~loc_x_zero] = np.arctan(data['loc_y'][~loc_x_zero]/data['loc_x'][~loc_x_zero])\n",
        "data['angle'] [loc_x_zero] = np.pi/2\n"
      ]
    },
    {
      "cell_type": "code",
      "execution_count": null,
      "id": "4968b070-7ab5-4d65-b3de-7d6d6019ae52",
      "metadata": {
        "id": "4968b070-7ab5-4d65-b3de-7d6d6019ae52"
      },
      "outputs": [],
      "source": [
        "data['remaining_time'] = data['minutes_remaining'] * 60 + data['seconds_remaining']\n",
        "data"
      ]
    },
    {
      "cell_type": "code",
      "execution_count": null,
      "id": "be8c5949-7ea3-4e27-9be3-4e01e78e667a",
      "metadata": {
        "id": "be8c5949-7ea3-4e27-9be3-4e01e78e667a"
      },
      "outputs": [],
      "source": [
        "# all games played for the same team, so ID and name not really relevant as both are constants\n",
        "\n",
        "print(data['team_id'].unique())\n",
        "print(data['team_name'].unique())"
      ]
    },
    {
      "cell_type": "code",
      "execution_count": null,
      "id": "09fbbd0e-7465-4d4a-b086-39a2a6f2d28c",
      "metadata": {
        "id": "09fbbd0e-7465-4d4a-b086-39a2a6f2d28c"
      },
      "outputs": [],
      "source": [
        "# matchuo and opponent contain essentially the same information\n",
        "\n",
        "pd.DataFrame({'matchup':data.matchup, 'opponent':data.opponent})\n"
      ]
    },
    {
      "cell_type": "code",
      "execution_count": null,
      "id": "a6402d4b-bded-4ceb-96e7-84449d59ca54",
      "metadata": {
        "id": "a6402d4b-bded-4ceb-96e7-84449d59ca54"
      },
      "outputs": [],
      "source": [
        "# are distance and shot distance the same thing?\n",
        "\n",
        "plt.figure(figsize=(5,5))\n",
        "\n",
        "plt.scatter(data.dist, data.shot_distance, color = 'blue')\n",
        "plt.title('dist and shot_distance')"
      ]
    },
    {
      "cell_type": "code",
      "execution_count": null,
      "id": "d9ffc08d-877f-46f7-997e-19b6e9b7a39a",
      "metadata": {
        "id": "d9ffc08d-877f-46f7-997e-19b6e9b7a39a"
      },
      "outputs": [],
      "source": [
        "# check shot made flag as it appears to have several NaN entries\n",
        "\n",
        "print (data[['shot_made_flag']].head(20))"
      ]
    },
    {
      "cell_type": "code",
      "execution_count": null,
      "id": "07b2515c-f302-4707-883a-03d7b5eff620",
      "metadata": {
        "id": "07b2515c-f302-4707-883a-03d7b5eff620"
      },
      "outputs": [],
      "source": [
        "import matplotlib.cm as cm\n",
        "plt.figure(figsize=(20,10))\n",
        "\n",
        "def scatter_plot_by_category(feat):\n",
        "    alpha = 0.1\n",
        "    gs = data.groupby(feat)\n",
        "    cs = cm.rainbow(np.linspace(0, 1, len(gs)))\n",
        "    for g, c in zip(gs, cs):\n",
        "        plt.scatter(g[1].loc_x, g[1].loc_y, color=c, alpha=alpha)\n",
        "\n",
        "plt.subplot(131)      # 131 means we have 3 plots, this is number 1 and position is location 1 (left)\n",
        "scatter_plot_by_category('shot_zone_area')\n",
        "plt.title('shot_zone_area')\n",
        "\n",
        "plt.subplot(132)\n",
        "scatter_plot_by_category('shot_zone_basic')\n",
        "plt.title('shot_zone_basic')\n",
        "\n",
        "plt.subplot(133)\n",
        "scatter_plot_by_category('shot_zone_range')\n",
        "plt.title('shot_zone_range')"
      ]
    },
    {
      "cell_type": "code",
      "execution_count": null,
      "id": "c3e81f81-a297-45f1-bfb3-5a8acfa84be9",
      "metadata": {
        "id": "c3e81f81-a297-45f1-bfb3-5a8acfa84be9"
      },
      "outputs": [],
      "source": [
        "# OK, we can drop (filter out) a lot of redundent data to increase speedd and reduce size\n",
        "\n",
        "drops = ['shot_id', 'team_id',  'team_name', 'shot_zone_area', 'shot_zone_range', 'shot_zone_basic',  'matchup', 'lon', 'lat','seconds_remaining', 'minutes_remaining', 'shot_distance', 'loc_x', 'loc_y', 'game_event_id', 'game_id', 'game_date','shot_made_flag']\n",
        ""
      ]
    },
    {
      "cell_type": "code",
      "execution_count": null,
      "id": "2e70a6c6-c1a2-4d35-b36e-8a55d1baaaea",
      "metadata": {
        "id": "2e70a6c6-c1a2-4d35-b36e-8a55d1baaaea"
      },
      "outputs": [],
      "source": [
        "for drop in drops:\n",
        "    data = data.drop(drop, axis =  1)"
      ]
    },
    {
      "cell_type": "code",
      "execution_count": null,
      "id": "e71abfc7-edc7-4a74-a189-d04e88ee6200",
      "metadata": {
        "id": "e71abfc7-edc7-4a74-a189-d04e88ee6200"
      },
      "outputs": [],
      "source": [
        "print('original to new count',len(originalFeatures), len(data.columns))\n",
        "print(data.head)\n",
        "\n",
        ""
      ]
    },
    {
      "cell_type": "code",
      "execution_count": null,
      "id": "14d3769e-ee69-4f29-afad-e4fa3d552e05",
      "metadata": {
        "id": "14d3769e-ee69-4f29-afad-e4fa3d552e05"
      },
      "outputs": [],
      "source": [
        "\n",
        "data"
      ]
    },
    {
      "cell_type": "code",
      "execution_count": null,
      "id": "57b83287-d2c5-4d17-9efc-0125510f9adb",
      "metadata": {
        "id": "57b83287-d2c5-4d17-9efc-0125510f9adb"
      },
      "outputs": [],
      "source": []
    },
    {
      "cell_type": "code",
      "execution_count": null,
      "id": "9f9783ec-1e78-4171-be48-903ae60e59fd",
      "metadata": {
        "id": "9f9783ec-1e78-4171-be48-903ae60e59fd"
      },
      "outputs": [],
      "source": []
    }
  ],
  "metadata": {
    "kernelspec": {
      "display_name": "Python 3 (ipykernel)",
      "language": "python",
      "name": "python3"
    },
    "language_info": {
      "codemirror_mode": {
        "name": "ipython",
        "version": 3
      },
      "file_extension": ".py",
      "mimetype": "text/x-python",
      "name": "python",
      "nbconvert_exporter": "python",
      "pygments_lexer": "ipython3",
      "version": "3.11.5"
    },
    "colab": {
      "provenance": [],
      "include_colab_link": true
    }
  },
  "nbformat": 4,
  "nbformat_minor": 5
}